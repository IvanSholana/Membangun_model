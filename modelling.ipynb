{
 "cells": [
  {
   "cell_type": "code",
   "execution_count": null,
   "id": "55e1d146",
   "metadata": {},
   "outputs": [],
   "source": [
    "import mlflow\n",
    "import pandas as pd\n",
    "from sklearn.model_selection import train_test_split\n",
    "from sklearn.tree import DecisionTreeClassifier\n",
    "from sklearn.ensemble import RandomForestClassifier\n",
    "from xgboost import XGBClassifier\n",
    "from sklearn.metrics import accuracy_score, precision_score, recall_score, f1_score\n",
    "import time"
   ]
  },
  {
   "cell_type": "code",
   "execution_count": 58,
   "id": "a410c33c",
   "metadata": {},
   "outputs": [],
   "source": [
    "dataset_df = pd.read_csv(\"./personality_preprocessing/personality_preprocessing.csv\")\n",
    "\n",
    "x_train, x_test, y_train, y_test = train_test_split(\n",
    "    dataset_df.drop(columns=[\"Personality\"]),\n",
    "    dataset_df[\"Personality\"],\n",
    "    test_size=0.2,\n",
    "    random_state=42,\n",
    ")"
   ]
  },
  {
   "cell_type": "code",
   "execution_count": 59,
   "id": "77a5b896",
   "metadata": {},
   "outputs": [
    {
     "data": {
      "text/plain": [
       "<Experiment: artifact_location='mlflow-artifacts:/398136347545907697', creation_time=1750476836211, experiment_id='398136347545907697', last_update_time=1750476836211, lifecycle_stage='active', name='Personality Prediction', tags={}>"
      ]
     },
     "execution_count": 59,
     "metadata": {},
     "output_type": "execute_result"
    }
   ],
   "source": [
    "mlflow.set_tracking_uri(\"http://localhost:5000\")\n",
    "mlflow.set_experiment(\"Personality Prediction\")"
   ]
  },
  {
   "cell_type": "code",
   "execution_count": 60,
   "id": "f5a693da",
   "metadata": {},
   "outputs": [],
   "source": [
    "models = {\n",
    "    \"DecisionTreeClassifier\": DecisionTreeClassifier(),\n",
    "    \"RandomForestClassifier\": RandomForestClassifier(),\n",
    "    \"XGBClassifier\": XGBClassifier(use_label_encoder=False, eval_metric='logloss')\n",
    "}"
   ]
  },
  {
   "cell_type": "code",
   "execution_count": 61,
   "id": "2b8ea45a",
   "metadata": {},
   "outputs": [
    {
     "name": "stderr",
     "output_type": "stream",
     "text": [
      "2025/06/21 10:34:06 WARNING mlflow.models.model: Model logged without a signature and input example. Please set `input_example` parameter when logging the model to auto infer the model signature.\n"
     ]
    },
    {
     "name": "stdout",
     "output_type": "stream",
     "text": [
      "🏃 View run rumbling-steed-520 at: http://localhost:5000/#/experiments/398136347545907697/runs/fb33f6d0a9ce41fb9c0289e00e6835e4\n",
      "🧪 View experiment at: http://localhost:5000/#/experiments/398136347545907697\n"
     ]
    },
    {
     "name": "stderr",
     "output_type": "stream",
     "text": [
      "2025/06/21 10:34:10 WARNING mlflow.models.model: Model logged without a signature and input example. Please set `input_example` parameter when logging the model to auto infer the model signature.\n"
     ]
    },
    {
     "name": "stdout",
     "output_type": "stream",
     "text": [
      "🏃 View run clean-owl-148 at: http://localhost:5000/#/experiments/398136347545907697/runs/009d59af0c7548eb95a757365a4720c1\n",
      "🧪 View experiment at: http://localhost:5000/#/experiments/398136347545907697\n"
     ]
    },
    {
     "name": "stderr",
     "output_type": "stream",
     "text": [
      "c:\\Users\\Asus\\anaconda3\\envs\\credit_scoring\\Lib\\site-packages\\xgboost\\training.py:183: UserWarning: [10:34:10] WARNING: C:\\actions-runner\\_work\\xgboost\\xgboost\\src\\learner.cc:738: \n",
      "Parameters: { \"use_label_encoder\" } are not used.\n",
      "\n",
      "  bst.update(dtrain, iteration=i, fobj=obj)\n",
      "c:\\Users\\Asus\\anaconda3\\envs\\credit_scoring\\Lib\\site-packages\\xgboost\\sklearn.py:1028: UserWarning: [10:34:11] WARNING: C:\\actions-runner\\_work\\xgboost\\xgboost\\src\\c_api\\c_api.cc:1427: Saving model in the UBJSON format as default.  You can use file extension: `json`, `ubj` or `deprecated` to choose between formats.\n",
      "  self.get_booster().save_model(fname)\n",
      "2025/06/21 10:34:15 WARNING mlflow.models.model: Model logged without a signature and input example. Please set `input_example` parameter when logging the model to auto infer the model signature.\n"
     ]
    },
    {
     "name": "stdout",
     "output_type": "stream",
     "text": [
      "🏃 View run efficient-bat-22 at: http://localhost:5000/#/experiments/398136347545907697/runs/483f1572f0704c07aa63ba0b772183dc\n",
      "🧪 View experiment at: http://localhost:5000/#/experiments/398136347545907697\n"
     ]
    }
   ],
   "source": [
    "for name, model in models.items():\n",
    "    with mlflow.start_run():\n",
    "        mlflow.log_param(\"model_type\", name)\n",
    "\n",
    "        start_time = time.time()\n",
    "        model.fit(x_train, y_train)\n",
    "        train_time = time.time() - start_time\n",
    "\n",
    "        y_pred = model.predict(x_test)\n",
    "\n",
    "        # Log metrics\n",
    "        mlflow.log_metric(\"accuracy\", accuracy_score(y_test, y_pred))\n",
    "        mlflow.log_metric(\"precision\", precision_score(y_test, y_pred, average='binary'))\n",
    "        mlflow.log_metric(\"recall\", recall_score(y_test, y_pred, average='binary'))\n",
    "        mlflow.log_metric(\"f1_score\", f1_score(y_test, y_pred, average='binary'))\n",
    "        mlflow.log_metric(\"train_time\", train_time)\n",
    "\n",
    "        # Extra metrics\n",
    "        mlflow.log_metric(\"true_positive_rate\", recall_score(y_test, y_pred, pos_label=1))\n",
    "        mlflow.log_metric(\"true_negative_rate\", recall_score(y_test, y_pred, pos_label=0))\n",
    "\n",
    "        # Log model\n",
    "        if name == \"XGBClassifier\":\n",
    "            mlflow.xgboost.log_model(model, \"model\")\n",
    "        else:\n",
    "            mlflow.sklearn.log_model(model, \"model\")"
   ]
  },
  {
   "cell_type": "code",
   "execution_count": 64,
   "id": "580cac60",
   "metadata": {},
   "outputs": [
    {
     "name": "stderr",
     "output_type": "stream",
     "text": [
      "c:\\Users\\Asus\\anaconda3\\envs\\credit_scoring\\Lib\\site-packages\\xgboost\\training.py:183: UserWarning: [10:41:54] WARNING: C:\\actions-runner\\_work\\xgboost\\xgboost\\src\\learner.cc:738: \n",
      "Parameters: { \"use_label_encoder\" } are not used.\n",
      "\n",
      "  bst.update(dtrain, iteration=i, fobj=obj)\n",
      "c:\\Users\\Asus\\anaconda3\\envs\\credit_scoring\\Lib\\site-packages\\xgboost\\training.py:183: UserWarning: [10:41:54] WARNING: C:\\actions-runner\\_work\\xgboost\\xgboost\\src\\learner.cc:738: \n",
      "Parameters: { \"use_label_encoder\" } are not used.\n",
      "\n",
      "  bst.update(dtrain, iteration=i, fobj=obj)\n",
      "c:\\Users\\Asus\\anaconda3\\envs\\credit_scoring\\Lib\\site-packages\\xgboost\\training.py:183: UserWarning: [10:41:54] WARNING: C:\\actions-runner\\_work\\xgboost\\xgboost\\src\\learner.cc:738: \n",
      "Parameters: { \"use_label_encoder\" } are not used.\n",
      "\n",
      "  bst.update(dtrain, iteration=i, fobj=obj)\n",
      "c:\\Users\\Asus\\anaconda3\\envs\\credit_scoring\\Lib\\site-packages\\xgboost\\training.py:183: UserWarning: [10:41:54] WARNING: C:\\actions-runner\\_work\\xgboost\\xgboost\\src\\learner.cc:738: \n",
      "Parameters: { \"use_label_encoder\" } are not used.\n",
      "\n",
      "  bst.update(dtrain, iteration=i, fobj=obj)\n",
      "c:\\Users\\Asus\\anaconda3\\envs\\credit_scoring\\Lib\\site-packages\\xgboost\\training.py:183: UserWarning: [10:41:54] WARNING: C:\\actions-runner\\_work\\xgboost\\xgboost\\src\\learner.cc:738: \n",
      "Parameters: { \"use_label_encoder\" } are not used.\n",
      "\n",
      "  bst.update(dtrain, iteration=i, fobj=obj)\n",
      "c:\\Users\\Asus\\anaconda3\\envs\\credit_scoring\\Lib\\site-packages\\xgboost\\training.py:183: UserWarning: [10:41:54] WARNING: C:\\actions-runner\\_work\\xgboost\\xgboost\\src\\learner.cc:738: \n",
      "Parameters: { \"use_label_encoder\" } are not used.\n",
      "\n",
      "  bst.update(dtrain, iteration=i, fobj=obj)\n",
      "c:\\Users\\Asus\\anaconda3\\envs\\credit_scoring\\Lib\\site-packages\\xgboost\\training.py:183: UserWarning: [10:41:54] WARNING: C:\\actions-runner\\_work\\xgboost\\xgboost\\src\\learner.cc:738: \n",
      "Parameters: { \"use_label_encoder\" } are not used.\n",
      "\n",
      "  bst.update(dtrain, iteration=i, fobj=obj)\n",
      "c:\\Users\\Asus\\anaconda3\\envs\\credit_scoring\\Lib\\site-packages\\xgboost\\training.py:183: UserWarning: [10:41:55] WARNING: C:\\actions-runner\\_work\\xgboost\\xgboost\\src\\learner.cc:738: \n",
      "Parameters: { \"use_label_encoder\" } are not used.\n",
      "\n",
      "  bst.update(dtrain, iteration=i, fobj=obj)\n",
      "c:\\Users\\Asus\\anaconda3\\envs\\credit_scoring\\Lib\\site-packages\\xgboost\\training.py:183: UserWarning: [10:41:55] WARNING: C:\\actions-runner\\_work\\xgboost\\xgboost\\src\\learner.cc:738: \n",
      "Parameters: { \"use_label_encoder\" } are not used.\n",
      "\n",
      "  bst.update(dtrain, iteration=i, fobj=obj)\n",
      "c:\\Users\\Asus\\anaconda3\\envs\\credit_scoring\\Lib\\site-packages\\xgboost\\training.py:183: UserWarning: [10:41:55] WARNING: C:\\actions-runner\\_work\\xgboost\\xgboost\\src\\learner.cc:738: \n",
      "Parameters: { \"use_label_encoder\" } are not used.\n",
      "\n",
      "  bst.update(dtrain, iteration=i, fobj=obj)\n",
      "c:\\Users\\Asus\\anaconda3\\envs\\credit_scoring\\Lib\\site-packages\\xgboost\\training.py:183: UserWarning: [10:41:55] WARNING: C:\\actions-runner\\_work\\xgboost\\xgboost\\src\\learner.cc:738: \n",
      "Parameters: { \"use_label_encoder\" } are not used.\n",
      "\n",
      "  bst.update(dtrain, iteration=i, fobj=obj)\n",
      "c:\\Users\\Asus\\anaconda3\\envs\\credit_scoring\\Lib\\site-packages\\xgboost\\training.py:183: UserWarning: [10:41:55] WARNING: C:\\actions-runner\\_work\\xgboost\\xgboost\\src\\learner.cc:738: \n",
      "Parameters: { \"use_label_encoder\" } are not used.\n",
      "\n",
      "  bst.update(dtrain, iteration=i, fobj=obj)\n",
      "c:\\Users\\Asus\\anaconda3\\envs\\credit_scoring\\Lib\\site-packages\\xgboost\\training.py:183: UserWarning: [10:41:55] WARNING: C:\\actions-runner\\_work\\xgboost\\xgboost\\src\\learner.cc:738: \n",
      "Parameters: { \"use_label_encoder\" } are not used.\n",
      "\n",
      "  bst.update(dtrain, iteration=i, fobj=obj)\n",
      "c:\\Users\\Asus\\anaconda3\\envs\\credit_scoring\\Lib\\site-packages\\xgboost\\training.py:183: UserWarning: [10:41:55] WARNING: C:\\actions-runner\\_work\\xgboost\\xgboost\\src\\learner.cc:738: \n",
      "Parameters: { \"use_label_encoder\" } are not used.\n",
      "\n",
      "  bst.update(dtrain, iteration=i, fobj=obj)\n",
      "c:\\Users\\Asus\\anaconda3\\envs\\credit_scoring\\Lib\\site-packages\\xgboost\\training.py:183: UserWarning: [10:41:55] WARNING: C:\\actions-runner\\_work\\xgboost\\xgboost\\src\\learner.cc:738: \n",
      "Parameters: { \"use_label_encoder\" } are not used.\n",
      "\n",
      "  bst.update(dtrain, iteration=i, fobj=obj)\n",
      "c:\\Users\\Asus\\anaconda3\\envs\\credit_scoring\\Lib\\site-packages\\xgboost\\training.py:183: UserWarning: [10:41:55] WARNING: C:\\actions-runner\\_work\\xgboost\\xgboost\\src\\learner.cc:738: \n",
      "Parameters: { \"use_label_encoder\" } are not used.\n",
      "\n",
      "  bst.update(dtrain, iteration=i, fobj=obj)\n",
      "c:\\Users\\Asus\\anaconda3\\envs\\credit_scoring\\Lib\\site-packages\\xgboost\\training.py:183: UserWarning: [10:41:55] WARNING: C:\\actions-runner\\_work\\xgboost\\xgboost\\src\\learner.cc:738: \n",
      "Parameters: { \"use_label_encoder\" } are not used.\n",
      "\n",
      "  bst.update(dtrain, iteration=i, fobj=obj)\n",
      "c:\\Users\\Asus\\anaconda3\\envs\\credit_scoring\\Lib\\site-packages\\xgboost\\training.py:183: UserWarning: [10:41:55] WARNING: C:\\actions-runner\\_work\\xgboost\\xgboost\\src\\learner.cc:738: \n",
      "Parameters: { \"use_label_encoder\" } are not used.\n",
      "\n",
      "  bst.update(dtrain, iteration=i, fobj=obj)\n",
      "c:\\Users\\Asus\\anaconda3\\envs\\credit_scoring\\Lib\\site-packages\\xgboost\\training.py:183: UserWarning: [10:41:55] WARNING: C:\\actions-runner\\_work\\xgboost\\xgboost\\src\\learner.cc:738: \n",
      "Parameters: { \"use_label_encoder\" } are not used.\n",
      "\n",
      "  bst.update(dtrain, iteration=i, fobj=obj)\n",
      "c:\\Users\\Asus\\anaconda3\\envs\\credit_scoring\\Lib\\site-packages\\xgboost\\training.py:183: UserWarning: [10:41:55] WARNING: C:\\actions-runner\\_work\\xgboost\\xgboost\\src\\learner.cc:738: \n",
      "Parameters: { \"use_label_encoder\" } are not used.\n",
      "\n",
      "  bst.update(dtrain, iteration=i, fobj=obj)\n",
      "c:\\Users\\Asus\\anaconda3\\envs\\credit_scoring\\Lib\\site-packages\\xgboost\\training.py:183: UserWarning: [10:41:55] WARNING: C:\\actions-runner\\_work\\xgboost\\xgboost\\src\\learner.cc:738: \n",
      "Parameters: { \"use_label_encoder\" } are not used.\n",
      "\n",
      "  bst.update(dtrain, iteration=i, fobj=obj)\n",
      "c:\\Users\\Asus\\anaconda3\\envs\\credit_scoring\\Lib\\site-packages\\xgboost\\training.py:183: UserWarning: [10:41:55] WARNING: C:\\actions-runner\\_work\\xgboost\\xgboost\\src\\learner.cc:738: \n",
      "Parameters: { \"use_label_encoder\" } are not used.\n",
      "\n",
      "  bst.update(dtrain, iteration=i, fobj=obj)\n",
      "c:\\Users\\Asus\\anaconda3\\envs\\credit_scoring\\Lib\\site-packages\\xgboost\\training.py:183: UserWarning: [10:41:55] WARNING: C:\\actions-runner\\_work\\xgboost\\xgboost\\src\\learner.cc:738: \n",
      "Parameters: { \"use_label_encoder\" } are not used.\n",
      "\n",
      "  bst.update(dtrain, iteration=i, fobj=obj)\n",
      "c:\\Users\\Asus\\anaconda3\\envs\\credit_scoring\\Lib\\site-packages\\xgboost\\training.py:183: UserWarning: [10:41:55] WARNING: C:\\actions-runner\\_work\\xgboost\\xgboost\\src\\learner.cc:738: \n",
      "Parameters: { \"use_label_encoder\" } are not used.\n",
      "\n",
      "  bst.update(dtrain, iteration=i, fobj=obj)\n",
      "c:\\Users\\Asus\\anaconda3\\envs\\credit_scoring\\Lib\\site-packages\\xgboost\\training.py:183: UserWarning: [10:41:55] WARNING: C:\\actions-runner\\_work\\xgboost\\xgboost\\src\\learner.cc:738: \n",
      "Parameters: { \"use_label_encoder\" } are not used.\n",
      "\n",
      "  bst.update(dtrain, iteration=i, fobj=obj)\n",
      "c:\\Users\\Asus\\anaconda3\\envs\\credit_scoring\\Lib\\site-packages\\xgboost\\training.py:183: UserWarning: [10:41:56] WARNING: C:\\actions-runner\\_work\\xgboost\\xgboost\\src\\learner.cc:738: \n",
      "Parameters: { \"use_label_encoder\" } are not used.\n",
      "\n",
      "  bst.update(dtrain, iteration=i, fobj=obj)\n",
      "c:\\Users\\Asus\\anaconda3\\envs\\credit_scoring\\Lib\\site-packages\\xgboost\\training.py:183: UserWarning: [10:41:56] WARNING: C:\\actions-runner\\_work\\xgboost\\xgboost\\src\\learner.cc:738: \n",
      "Parameters: { \"use_label_encoder\" } are not used.\n",
      "\n",
      "  bst.update(dtrain, iteration=i, fobj=obj)\n",
      "c:\\Users\\Asus\\anaconda3\\envs\\credit_scoring\\Lib\\site-packages\\xgboost\\training.py:183: UserWarning: [10:41:56] WARNING: C:\\actions-runner\\_work\\xgboost\\xgboost\\src\\learner.cc:738: \n",
      "Parameters: { \"use_label_encoder\" } are not used.\n",
      "\n",
      "  bst.update(dtrain, iteration=i, fobj=obj)\n",
      "c:\\Users\\Asus\\anaconda3\\envs\\credit_scoring\\Lib\\site-packages\\xgboost\\training.py:183: UserWarning: [10:41:56] WARNING: C:\\actions-runner\\_work\\xgboost\\xgboost\\src\\learner.cc:738: \n",
      "Parameters: { \"use_label_encoder\" } are not used.\n",
      "\n",
      "  bst.update(dtrain, iteration=i, fobj=obj)\n",
      "c:\\Users\\Asus\\anaconda3\\envs\\credit_scoring\\Lib\\site-packages\\xgboost\\training.py:183: UserWarning: [10:41:56] WARNING: C:\\actions-runner\\_work\\xgboost\\xgboost\\src\\learner.cc:738: \n",
      "Parameters: { \"use_label_encoder\" } are not used.\n",
      "\n",
      "  bst.update(dtrain, iteration=i, fobj=obj)\n",
      "c:\\Users\\Asus\\anaconda3\\envs\\credit_scoring\\Lib\\site-packages\\xgboost\\training.py:183: UserWarning: [10:41:56] WARNING: C:\\actions-runner\\_work\\xgboost\\xgboost\\src\\learner.cc:738: \n",
      "Parameters: { \"use_label_encoder\" } are not used.\n",
      "\n",
      "  bst.update(dtrain, iteration=i, fobj=obj)\n",
      "c:\\Users\\Asus\\anaconda3\\envs\\credit_scoring\\Lib\\site-packages\\xgboost\\training.py:183: UserWarning: [10:41:56] WARNING: C:\\actions-runner\\_work\\xgboost\\xgboost\\src\\learner.cc:738: \n",
      "Parameters: { \"use_label_encoder\" } are not used.\n",
      "\n",
      "  bst.update(dtrain, iteration=i, fobj=obj)\n",
      "c:\\Users\\Asus\\anaconda3\\envs\\credit_scoring\\Lib\\site-packages\\xgboost\\training.py:183: UserWarning: [10:41:56] WARNING: C:\\actions-runner\\_work\\xgboost\\xgboost\\src\\learner.cc:738: \n",
      "Parameters: { \"use_label_encoder\" } are not used.\n",
      "\n",
      "  bst.update(dtrain, iteration=i, fobj=obj)\n",
      "c:\\Users\\Asus\\anaconda3\\envs\\credit_scoring\\Lib\\site-packages\\xgboost\\training.py:183: UserWarning: [10:41:56] WARNING: C:\\actions-runner\\_work\\xgboost\\xgboost\\src\\learner.cc:738: \n",
      "Parameters: { \"use_label_encoder\" } are not used.\n",
      "\n",
      "  bst.update(dtrain, iteration=i, fobj=obj)\n",
      "c:\\Users\\Asus\\anaconda3\\envs\\credit_scoring\\Lib\\site-packages\\xgboost\\training.py:183: UserWarning: [10:41:56] WARNING: C:\\actions-runner\\_work\\xgboost\\xgboost\\src\\learner.cc:738: \n",
      "Parameters: { \"use_label_encoder\" } are not used.\n",
      "\n",
      "  bst.update(dtrain, iteration=i, fobj=obj)\n",
      "c:\\Users\\Asus\\anaconda3\\envs\\credit_scoring\\Lib\\site-packages\\xgboost\\training.py:183: UserWarning: [10:41:56] WARNING: C:\\actions-runner\\_work\\xgboost\\xgboost\\src\\learner.cc:738: \n",
      "Parameters: { \"use_label_encoder\" } are not used.\n",
      "\n",
      "  bst.update(dtrain, iteration=i, fobj=obj)\n",
      "c:\\Users\\Asus\\anaconda3\\envs\\credit_scoring\\Lib\\site-packages\\xgboost\\training.py:183: UserWarning: [10:41:56] WARNING: C:\\actions-runner\\_work\\xgboost\\xgboost\\src\\learner.cc:738: \n",
      "Parameters: { \"use_label_encoder\" } are not used.\n",
      "\n",
      "  bst.update(dtrain, iteration=i, fobj=obj)\n",
      "c:\\Users\\Asus\\anaconda3\\envs\\credit_scoring\\Lib\\site-packages\\xgboost\\training.py:183: UserWarning: [10:41:56] WARNING: C:\\actions-runner\\_work\\xgboost\\xgboost\\src\\learner.cc:738: \n",
      "Parameters: { \"use_label_encoder\" } are not used.\n",
      "\n",
      "  bst.update(dtrain, iteration=i, fobj=obj)\n",
      "c:\\Users\\Asus\\anaconda3\\envs\\credit_scoring\\Lib\\site-packages\\xgboost\\training.py:183: UserWarning: [10:41:56] WARNING: C:\\actions-runner\\_work\\xgboost\\xgboost\\src\\learner.cc:738: \n",
      "Parameters: { \"use_label_encoder\" } are not used.\n",
      "\n",
      "  bst.update(dtrain, iteration=i, fobj=obj)\n",
      "c:\\Users\\Asus\\anaconda3\\envs\\credit_scoring\\Lib\\site-packages\\xgboost\\training.py:183: UserWarning: [10:41:56] WARNING: C:\\actions-runner\\_work\\xgboost\\xgboost\\src\\learner.cc:738: \n",
      "Parameters: { \"use_label_encoder\" } are not used.\n",
      "\n",
      "  bst.update(dtrain, iteration=i, fobj=obj)\n",
      "c:\\Users\\Asus\\anaconda3\\envs\\credit_scoring\\Lib\\site-packages\\xgboost\\training.py:183: UserWarning: [10:41:56] WARNING: C:\\actions-runner\\_work\\xgboost\\xgboost\\src\\learner.cc:738: \n",
      "Parameters: { \"use_label_encoder\" } are not used.\n",
      "\n",
      "  bst.update(dtrain, iteration=i, fobj=obj)\n",
      "c:\\Users\\Asus\\anaconda3\\envs\\credit_scoring\\Lib\\site-packages\\xgboost\\training.py:183: UserWarning: [10:41:56] WARNING: C:\\actions-runner\\_work\\xgboost\\xgboost\\src\\learner.cc:738: \n",
      "Parameters: { \"use_label_encoder\" } are not used.\n",
      "\n",
      "  bst.update(dtrain, iteration=i, fobj=obj)\n",
      "c:\\Users\\Asus\\anaconda3\\envs\\credit_scoring\\Lib\\site-packages\\xgboost\\training.py:183: UserWarning: [10:41:56] WARNING: C:\\actions-runner\\_work\\xgboost\\xgboost\\src\\learner.cc:738: \n",
      "Parameters: { \"use_label_encoder\" } are not used.\n",
      "\n",
      "  bst.update(dtrain, iteration=i, fobj=obj)\n",
      "c:\\Users\\Asus\\anaconda3\\envs\\credit_scoring\\Lib\\site-packages\\xgboost\\training.py:183: UserWarning: [10:41:57] WARNING: C:\\actions-runner\\_work\\xgboost\\xgboost\\src\\learner.cc:738: \n",
      "Parameters: { \"use_label_encoder\" } are not used.\n",
      "\n",
      "  bst.update(dtrain, iteration=i, fobj=obj)\n",
      "c:\\Users\\Asus\\anaconda3\\envs\\credit_scoring\\Lib\\site-packages\\xgboost\\training.py:183: UserWarning: [10:41:57] WARNING: C:\\actions-runner\\_work\\xgboost\\xgboost\\src\\learner.cc:738: \n",
      "Parameters: { \"use_label_encoder\" } are not used.\n",
      "\n",
      "  bst.update(dtrain, iteration=i, fobj=obj)\n",
      "c:\\Users\\Asus\\anaconda3\\envs\\credit_scoring\\Lib\\site-packages\\xgboost\\training.py:183: UserWarning: [10:41:57] WARNING: C:\\actions-runner\\_work\\xgboost\\xgboost\\src\\learner.cc:738: \n",
      "Parameters: { \"use_label_encoder\" } are not used.\n",
      "\n",
      "  bst.update(dtrain, iteration=i, fobj=obj)\n",
      "c:\\Users\\Asus\\anaconda3\\envs\\credit_scoring\\Lib\\site-packages\\xgboost\\training.py:183: UserWarning: [10:41:57] WARNING: C:\\actions-runner\\_work\\xgboost\\xgboost\\src\\learner.cc:738: \n",
      "Parameters: { \"use_label_encoder\" } are not used.\n",
      "\n",
      "  bst.update(dtrain, iteration=i, fobj=obj)\n",
      "c:\\Users\\Asus\\anaconda3\\envs\\credit_scoring\\Lib\\site-packages\\xgboost\\training.py:183: UserWarning: [10:41:57] WARNING: C:\\actions-runner\\_work\\xgboost\\xgboost\\src\\learner.cc:738: \n",
      "Parameters: { \"use_label_encoder\" } are not used.\n",
      "\n",
      "  bst.update(dtrain, iteration=i, fobj=obj)\n",
      "c:\\Users\\Asus\\anaconda3\\envs\\credit_scoring\\Lib\\site-packages\\xgboost\\training.py:183: UserWarning: [10:41:57] WARNING: C:\\actions-runner\\_work\\xgboost\\xgboost\\src\\learner.cc:738: \n",
      "Parameters: { \"use_label_encoder\" } are not used.\n",
      "\n",
      "  bst.update(dtrain, iteration=i, fobj=obj)\n",
      "c:\\Users\\Asus\\anaconda3\\envs\\credit_scoring\\Lib\\site-packages\\xgboost\\training.py:183: UserWarning: [10:41:57] WARNING: C:\\actions-runner\\_work\\xgboost\\xgboost\\src\\learner.cc:738: \n",
      "Parameters: { \"use_label_encoder\" } are not used.\n",
      "\n",
      "  bst.update(dtrain, iteration=i, fobj=obj)\n",
      "c:\\Users\\Asus\\anaconda3\\envs\\credit_scoring\\Lib\\site-packages\\xgboost\\training.py:183: UserWarning: [10:41:57] WARNING: C:\\actions-runner\\_work\\xgboost\\xgboost\\src\\learner.cc:738: \n",
      "Parameters: { \"use_label_encoder\" } are not used.\n",
      "\n",
      "  bst.update(dtrain, iteration=i, fobj=obj)\n",
      "c:\\Users\\Asus\\anaconda3\\envs\\credit_scoring\\Lib\\site-packages\\xgboost\\training.py:183: UserWarning: [10:41:57] WARNING: C:\\actions-runner\\_work\\xgboost\\xgboost\\src\\learner.cc:738: \n",
      "Parameters: { \"use_label_encoder\" } are not used.\n",
      "\n",
      "  bst.update(dtrain, iteration=i, fobj=obj)\n",
      "c:\\Users\\Asus\\anaconda3\\envs\\credit_scoring\\Lib\\site-packages\\xgboost\\training.py:183: UserWarning: [10:41:57] WARNING: C:\\actions-runner\\_work\\xgboost\\xgboost\\src\\learner.cc:738: \n",
      "Parameters: { \"use_label_encoder\" } are not used.\n",
      "\n",
      "  bst.update(dtrain, iteration=i, fobj=obj)\n",
      "c:\\Users\\Asus\\anaconda3\\envs\\credit_scoring\\Lib\\site-packages\\xgboost\\training.py:183: UserWarning: [10:41:57] WARNING: C:\\actions-runner\\_work\\xgboost\\xgboost\\src\\learner.cc:738: \n",
      "Parameters: { \"use_label_encoder\" } are not used.\n",
      "\n",
      "  bst.update(dtrain, iteration=i, fobj=obj)\n",
      "c:\\Users\\Asus\\anaconda3\\envs\\credit_scoring\\Lib\\site-packages\\xgboost\\training.py:183: UserWarning: [10:41:57] WARNING: C:\\actions-runner\\_work\\xgboost\\xgboost\\src\\learner.cc:738: \n",
      "Parameters: { \"use_label_encoder\" } are not used.\n",
      "\n",
      "  bst.update(dtrain, iteration=i, fobj=obj)\n",
      "c:\\Users\\Asus\\anaconda3\\envs\\credit_scoring\\Lib\\site-packages\\xgboost\\training.py:183: UserWarning: [10:41:58] WARNING: C:\\actions-runner\\_work\\xgboost\\xgboost\\src\\learner.cc:738: \n",
      "Parameters: { \"use_label_encoder\" } are not used.\n",
      "\n",
      "  bst.update(dtrain, iteration=i, fobj=obj)\n",
      "c:\\Users\\Asus\\anaconda3\\envs\\credit_scoring\\Lib\\site-packages\\xgboost\\training.py:183: UserWarning: [10:41:58] WARNING: C:\\actions-runner\\_work\\xgboost\\xgboost\\src\\learner.cc:738: \n",
      "Parameters: { \"use_label_encoder\" } are not used.\n",
      "\n",
      "  bst.update(dtrain, iteration=i, fobj=obj)\n",
      "c:\\Users\\Asus\\anaconda3\\envs\\credit_scoring\\Lib\\site-packages\\xgboost\\training.py:183: UserWarning: [10:41:58] WARNING: C:\\actions-runner\\_work\\xgboost\\xgboost\\src\\learner.cc:738: \n",
      "Parameters: { \"use_label_encoder\" } are not used.\n",
      "\n",
      "  bst.update(dtrain, iteration=i, fobj=obj)\n",
      "c:\\Users\\Asus\\anaconda3\\envs\\credit_scoring\\Lib\\site-packages\\xgboost\\training.py:183: UserWarning: [10:41:58] WARNING: C:\\actions-runner\\_work\\xgboost\\xgboost\\src\\learner.cc:738: \n",
      "Parameters: { \"use_label_encoder\" } are not used.\n",
      "\n",
      "  bst.update(dtrain, iteration=i, fobj=obj)\n",
      "c:\\Users\\Asus\\anaconda3\\envs\\credit_scoring\\Lib\\site-packages\\xgboost\\training.py:183: UserWarning: [10:41:58] WARNING: C:\\actions-runner\\_work\\xgboost\\xgboost\\src\\learner.cc:738: \n",
      "Parameters: { \"use_label_encoder\" } are not used.\n",
      "\n",
      "  bst.update(dtrain, iteration=i, fobj=obj)\n",
      "c:\\Users\\Asus\\anaconda3\\envs\\credit_scoring\\Lib\\site-packages\\xgboost\\training.py:183: UserWarning: [10:41:58] WARNING: C:\\actions-runner\\_work\\xgboost\\xgboost\\src\\learner.cc:738: \n",
      "Parameters: { \"use_label_encoder\" } are not used.\n",
      "\n",
      "  bst.update(dtrain, iteration=i, fobj=obj)\n",
      "c:\\Users\\Asus\\anaconda3\\envs\\credit_scoring\\Lib\\site-packages\\xgboost\\training.py:183: UserWarning: [10:41:58] WARNING: C:\\actions-runner\\_work\\xgboost\\xgboost\\src\\learner.cc:738: \n",
      "Parameters: { \"use_label_encoder\" } are not used.\n",
      "\n",
      "  bst.update(dtrain, iteration=i, fobj=obj)\n",
      "c:\\Users\\Asus\\anaconda3\\envs\\credit_scoring\\Lib\\site-packages\\xgboost\\training.py:183: UserWarning: [10:41:58] WARNING: C:\\actions-runner\\_work\\xgboost\\xgboost\\src\\learner.cc:738: \n",
      "Parameters: { \"use_label_encoder\" } are not used.\n",
      "\n",
      "  bst.update(dtrain, iteration=i, fobj=obj)\n",
      "c:\\Users\\Asus\\anaconda3\\envs\\credit_scoring\\Lib\\site-packages\\xgboost\\training.py:183: UserWarning: [10:41:58] WARNING: C:\\actions-runner\\_work\\xgboost\\xgboost\\src\\learner.cc:738: \n",
      "Parameters: { \"use_label_encoder\" } are not used.\n",
      "\n",
      "  bst.update(dtrain, iteration=i, fobj=obj)\n",
      "c:\\Users\\Asus\\anaconda3\\envs\\credit_scoring\\Lib\\site-packages\\xgboost\\training.py:183: UserWarning: [10:41:58] WARNING: C:\\actions-runner\\_work\\xgboost\\xgboost\\src\\learner.cc:738: \n",
      "Parameters: { \"use_label_encoder\" } are not used.\n",
      "\n",
      "  bst.update(dtrain, iteration=i, fobj=obj)\n",
      "c:\\Users\\Asus\\anaconda3\\envs\\credit_scoring\\Lib\\site-packages\\xgboost\\training.py:183: UserWarning: [10:41:58] WARNING: C:\\actions-runner\\_work\\xgboost\\xgboost\\src\\learner.cc:738: \n",
      "Parameters: { \"use_label_encoder\" } are not used.\n",
      "\n",
      "  bst.update(dtrain, iteration=i, fobj=obj)\n",
      "c:\\Users\\Asus\\anaconda3\\envs\\credit_scoring\\Lib\\site-packages\\xgboost\\training.py:183: UserWarning: [10:41:58] WARNING: C:\\actions-runner\\_work\\xgboost\\xgboost\\src\\learner.cc:738: \n",
      "Parameters: { \"use_label_encoder\" } are not used.\n",
      "\n",
      "  bst.update(dtrain, iteration=i, fobj=obj)\n",
      "c:\\Users\\Asus\\anaconda3\\envs\\credit_scoring\\Lib\\site-packages\\xgboost\\training.py:183: UserWarning: [10:41:58] WARNING: C:\\actions-runner\\_work\\xgboost\\xgboost\\src\\learner.cc:738: \n",
      "Parameters: { \"use_label_encoder\" } are not used.\n",
      "\n",
      "  bst.update(dtrain, iteration=i, fobj=obj)\n",
      "c:\\Users\\Asus\\anaconda3\\envs\\credit_scoring\\Lib\\site-packages\\xgboost\\training.py:183: UserWarning: [10:41:58] WARNING: C:\\actions-runner\\_work\\xgboost\\xgboost\\src\\learner.cc:738: \n",
      "Parameters: { \"use_label_encoder\" } are not used.\n",
      "\n",
      "  bst.update(dtrain, iteration=i, fobj=obj)\n",
      "c:\\Users\\Asus\\anaconda3\\envs\\credit_scoring\\Lib\\site-packages\\xgboost\\training.py:183: UserWarning: [10:41:58] WARNING: C:\\actions-runner\\_work\\xgboost\\xgboost\\src\\learner.cc:738: \n",
      "Parameters: { \"use_label_encoder\" } are not used.\n",
      "\n",
      "  bst.update(dtrain, iteration=i, fobj=obj)\n",
      "c:\\Users\\Asus\\anaconda3\\envs\\credit_scoring\\Lib\\site-packages\\xgboost\\training.py:183: UserWarning: [10:41:58] WARNING: C:\\actions-runner\\_work\\xgboost\\xgboost\\src\\learner.cc:738: \n",
      "Parameters: { \"use_label_encoder\" } are not used.\n",
      "\n",
      "  bst.update(dtrain, iteration=i, fobj=obj)\n",
      "c:\\Users\\Asus\\anaconda3\\envs\\credit_scoring\\Lib\\site-packages\\xgboost\\training.py:183: UserWarning: [10:41:58] WARNING: C:\\actions-runner\\_work\\xgboost\\xgboost\\src\\learner.cc:738: \n",
      "Parameters: { \"use_label_encoder\" } are not used.\n",
      "\n",
      "  bst.update(dtrain, iteration=i, fobj=obj)\n",
      "c:\\Users\\Asus\\anaconda3\\envs\\credit_scoring\\Lib\\site-packages\\xgboost\\training.py:183: UserWarning: [10:41:58] WARNING: C:\\actions-runner\\_work\\xgboost\\xgboost\\src\\learner.cc:738: \n",
      "Parameters: { \"use_label_encoder\" } are not used.\n",
      "\n",
      "  bst.update(dtrain, iteration=i, fobj=obj)\n",
      "c:\\Users\\Asus\\anaconda3\\envs\\credit_scoring\\Lib\\site-packages\\xgboost\\training.py:183: UserWarning: [10:41:58] WARNING: C:\\actions-runner\\_work\\xgboost\\xgboost\\src\\learner.cc:738: \n",
      "Parameters: { \"use_label_encoder\" } are not used.\n",
      "\n",
      "  bst.update(dtrain, iteration=i, fobj=obj)\n",
      "c:\\Users\\Asus\\anaconda3\\envs\\credit_scoring\\Lib\\site-packages\\xgboost\\training.py:183: UserWarning: [10:41:58] WARNING: C:\\actions-runner\\_work\\xgboost\\xgboost\\src\\learner.cc:738: \n",
      "Parameters: { \"use_label_encoder\" } are not used.\n",
      "\n",
      "  bst.update(dtrain, iteration=i, fobj=obj)\n",
      "c:\\Users\\Asus\\anaconda3\\envs\\credit_scoring\\Lib\\site-packages\\xgboost\\training.py:183: UserWarning: [10:41:58] WARNING: C:\\actions-runner\\_work\\xgboost\\xgboost\\src\\learner.cc:738: \n",
      "Parameters: { \"use_label_encoder\" } are not used.\n",
      "\n",
      "  bst.update(dtrain, iteration=i, fobj=obj)\n",
      "c:\\Users\\Asus\\anaconda3\\envs\\credit_scoring\\Lib\\site-packages\\xgboost\\training.py:183: UserWarning: [10:41:59] WARNING: C:\\actions-runner\\_work\\xgboost\\xgboost\\src\\learner.cc:738: \n",
      "Parameters: { \"use_label_encoder\" } are not used.\n",
      "\n",
      "  bst.update(dtrain, iteration=i, fobj=obj)\n",
      "c:\\Users\\Asus\\anaconda3\\envs\\credit_scoring\\Lib\\site-packages\\xgboost\\training.py:183: UserWarning: [10:41:59] WARNING: C:\\actions-runner\\_work\\xgboost\\xgboost\\src\\learner.cc:738: \n",
      "Parameters: { \"use_label_encoder\" } are not used.\n",
      "\n",
      "  bst.update(dtrain, iteration=i, fobj=obj)\n",
      "c:\\Users\\Asus\\anaconda3\\envs\\credit_scoring\\Lib\\site-packages\\xgboost\\training.py:183: UserWarning: [10:41:59] WARNING: C:\\actions-runner\\_work\\xgboost\\xgboost\\src\\learner.cc:738: \n",
      "Parameters: { \"use_label_encoder\" } are not used.\n",
      "\n",
      "  bst.update(dtrain, iteration=i, fobj=obj)\n",
      "c:\\Users\\Asus\\anaconda3\\envs\\credit_scoring\\Lib\\site-packages\\xgboost\\training.py:183: UserWarning: [10:41:59] WARNING: C:\\actions-runner\\_work\\xgboost\\xgboost\\src\\learner.cc:738: \n",
      "Parameters: { \"use_label_encoder\" } are not used.\n",
      "\n",
      "  bst.update(dtrain, iteration=i, fobj=obj)\n",
      "c:\\Users\\Asus\\anaconda3\\envs\\credit_scoring\\Lib\\site-packages\\xgboost\\training.py:183: UserWarning: [10:41:59] WARNING: C:\\actions-runner\\_work\\xgboost\\xgboost\\src\\learner.cc:738: \n",
      "Parameters: { \"use_label_encoder\" } are not used.\n",
      "\n",
      "  bst.update(dtrain, iteration=i, fobj=obj)\n",
      "c:\\Users\\Asus\\anaconda3\\envs\\credit_scoring\\Lib\\site-packages\\xgboost\\training.py:183: UserWarning: [10:41:59] WARNING: C:\\actions-runner\\_work\\xgboost\\xgboost\\src\\learner.cc:738: \n",
      "Parameters: { \"use_label_encoder\" } are not used.\n",
      "\n",
      "  bst.update(dtrain, iteration=i, fobj=obj)\n",
      "c:\\Users\\Asus\\anaconda3\\envs\\credit_scoring\\Lib\\site-packages\\xgboost\\training.py:183: UserWarning: [10:41:59] WARNING: C:\\actions-runner\\_work\\xgboost\\xgboost\\src\\learner.cc:738: \n",
      "Parameters: { \"use_label_encoder\" } are not used.\n",
      "\n",
      "  bst.update(dtrain, iteration=i, fobj=obj)\n",
      "c:\\Users\\Asus\\anaconda3\\envs\\credit_scoring\\Lib\\site-packages\\xgboost\\sklearn.py:1028: UserWarning: [10:41:59] WARNING: C:\\actions-runner\\_work\\xgboost\\xgboost\\src\\c_api\\c_api.cc:1427: Saving model in the UBJSON format as default.  You can use file extension: `json`, `ubj` or `deprecated` to choose between formats.\n",
      "  self.get_booster().save_model(fname)\n",
      "2025/06/21 10:42:04 WARNING mlflow.models.model: Model logged without a signature and input example. Please set `input_example` parameter when logging the model to auto infer the model signature.\n",
      "c:\\Users\\Asus\\anaconda3\\envs\\credit_scoring\\Lib\\site-packages\\xgboost\\training.py:183: UserWarning: [10:42:04] WARNING: C:\\actions-runner\\_work\\xgboost\\xgboost\\src\\learner.cc:738: \n",
      "Parameters: { \"use_label_encoder\" } are not used.\n",
      "\n",
      "  bst.update(dtrain, iteration=i, fobj=obj)\n"
     ]
    },
    {
     "name": "stdout",
     "output_type": "stream",
     "text": [
      "🏃 View run Trial_1 at: http://localhost:5000/#/experiments/398136347545907697/runs/238d1b04e9e94d5da8eda97c4ea10386\n",
      "🧪 View experiment at: http://localhost:5000/#/experiments/398136347545907697\n"
     ]
    },
    {
     "name": "stderr",
     "output_type": "stream",
     "text": [
      "c:\\Users\\Asus\\anaconda3\\envs\\credit_scoring\\Lib\\site-packages\\xgboost\\sklearn.py:1028: UserWarning: [10:42:05] WARNING: C:\\actions-runner\\_work\\xgboost\\xgboost\\src\\c_api\\c_api.cc:1427: Saving model in the UBJSON format as default.  You can use file extension: `json`, `ubj` or `deprecated` to choose between formats.\n",
      "  self.get_booster().save_model(fname)\n",
      "2025/06/21 10:42:09 WARNING mlflow.models.model: Model logged without a signature and input example. Please set `input_example` parameter when logging the model to auto infer the model signature.\n",
      "c:\\Users\\Asus\\anaconda3\\envs\\credit_scoring\\Lib\\site-packages\\xgboost\\training.py:183: UserWarning: [10:42:10] WARNING: C:\\actions-runner\\_work\\xgboost\\xgboost\\src\\learner.cc:738: \n",
      "Parameters: { \"use_label_encoder\" } are not used.\n",
      "\n",
      "  bst.update(dtrain, iteration=i, fobj=obj)\n"
     ]
    },
    {
     "name": "stdout",
     "output_type": "stream",
     "text": [
      "🏃 View run Trial_2 at: http://localhost:5000/#/experiments/398136347545907697/runs/1c8b854942aa4b4da5bdb34452a67105\n",
      "🧪 View experiment at: http://localhost:5000/#/experiments/398136347545907697\n"
     ]
    },
    {
     "name": "stderr",
     "output_type": "stream",
     "text": [
      "c:\\Users\\Asus\\anaconda3\\envs\\credit_scoring\\Lib\\site-packages\\xgboost\\sklearn.py:1028: UserWarning: [10:42:10] WARNING: C:\\actions-runner\\_work\\xgboost\\xgboost\\src\\c_api\\c_api.cc:1427: Saving model in the UBJSON format as default.  You can use file extension: `json`, `ubj` or `deprecated` to choose between formats.\n",
      "  self.get_booster().save_model(fname)\n",
      "2025/06/21 10:42:15 WARNING mlflow.models.model: Model logged without a signature and input example. Please set `input_example` parameter when logging the model to auto infer the model signature.\n",
      "c:\\Users\\Asus\\anaconda3\\envs\\credit_scoring\\Lib\\site-packages\\xgboost\\training.py:183: UserWarning: [10:42:15] WARNING: C:\\actions-runner\\_work\\xgboost\\xgboost\\src\\learner.cc:738: \n",
      "Parameters: { \"use_label_encoder\" } are not used.\n",
      "\n",
      "  bst.update(dtrain, iteration=i, fobj=obj)\n"
     ]
    },
    {
     "name": "stdout",
     "output_type": "stream",
     "text": [
      "🏃 View run Trial_3 at: http://localhost:5000/#/experiments/398136347545907697/runs/21625e34c1dd4aa4b3d856cec7b0119b\n",
      "🧪 View experiment at: http://localhost:5000/#/experiments/398136347545907697\n"
     ]
    },
    {
     "name": "stderr",
     "output_type": "stream",
     "text": [
      "c:\\Users\\Asus\\anaconda3\\envs\\credit_scoring\\Lib\\site-packages\\xgboost\\sklearn.py:1028: UserWarning: [10:42:15] WARNING: C:\\actions-runner\\_work\\xgboost\\xgboost\\src\\c_api\\c_api.cc:1427: Saving model in the UBJSON format as default.  You can use file extension: `json`, `ubj` or `deprecated` to choose between formats.\n",
      "  self.get_booster().save_model(fname)\n",
      "2025/06/21 10:42:20 WARNING mlflow.models.model: Model logged without a signature and input example. Please set `input_example` parameter when logging the model to auto infer the model signature.\n",
      "c:\\Users\\Asus\\anaconda3\\envs\\credit_scoring\\Lib\\site-packages\\xgboost\\training.py:183: UserWarning: [10:42:20] WARNING: C:\\actions-runner\\_work\\xgboost\\xgboost\\src\\learner.cc:738: \n",
      "Parameters: { \"use_label_encoder\" } are not used.\n",
      "\n",
      "  bst.update(dtrain, iteration=i, fobj=obj)\n"
     ]
    },
    {
     "name": "stdout",
     "output_type": "stream",
     "text": [
      "🏃 View run Trial_4 at: http://localhost:5000/#/experiments/398136347545907697/runs/5133f50df5e84cecb761ba41e4736f22\n",
      "🧪 View experiment at: http://localhost:5000/#/experiments/398136347545907697\n"
     ]
    },
    {
     "name": "stderr",
     "output_type": "stream",
     "text": [
      "c:\\Users\\Asus\\anaconda3\\envs\\credit_scoring\\Lib\\site-packages\\xgboost\\sklearn.py:1028: UserWarning: [10:42:20] WARNING: C:\\actions-runner\\_work\\xgboost\\xgboost\\src\\c_api\\c_api.cc:1427: Saving model in the UBJSON format as default.  You can use file extension: `json`, `ubj` or `deprecated` to choose between formats.\n",
      "  self.get_booster().save_model(fname)\n",
      "2025/06/21 10:42:25 WARNING mlflow.models.model: Model logged without a signature and input example. Please set `input_example` parameter when logging the model to auto infer the model signature.\n",
      "c:\\Users\\Asus\\anaconda3\\envs\\credit_scoring\\Lib\\site-packages\\xgboost\\training.py:183: UserWarning: [10:42:25] WARNING: C:\\actions-runner\\_work\\xgboost\\xgboost\\src\\learner.cc:738: \n",
      "Parameters: { \"use_label_encoder\" } are not used.\n",
      "\n",
      "  bst.update(dtrain, iteration=i, fobj=obj)\n"
     ]
    },
    {
     "name": "stdout",
     "output_type": "stream",
     "text": [
      "🏃 View run Trial_5 at: http://localhost:5000/#/experiments/398136347545907697/runs/831c3598089f4326a3a32f93a8e26c04\n",
      "🧪 View experiment at: http://localhost:5000/#/experiments/398136347545907697\n"
     ]
    },
    {
     "name": "stderr",
     "output_type": "stream",
     "text": [
      "c:\\Users\\Asus\\anaconda3\\envs\\credit_scoring\\Lib\\site-packages\\xgboost\\sklearn.py:1028: UserWarning: [10:42:25] WARNING: C:\\actions-runner\\_work\\xgboost\\xgboost\\src\\c_api\\c_api.cc:1427: Saving model in the UBJSON format as default.  You can use file extension: `json`, `ubj` or `deprecated` to choose between formats.\n",
      "  self.get_booster().save_model(fname)\n",
      "2025/06/21 10:42:30 WARNING mlflow.models.model: Model logged without a signature and input example. Please set `input_example` parameter when logging the model to auto infer the model signature.\n",
      "c:\\Users\\Asus\\anaconda3\\envs\\credit_scoring\\Lib\\site-packages\\xgboost\\training.py:183: UserWarning: [10:42:30] WARNING: C:\\actions-runner\\_work\\xgboost\\xgboost\\src\\learner.cc:738: \n",
      "Parameters: { \"use_label_encoder\" } are not used.\n",
      "\n",
      "  bst.update(dtrain, iteration=i, fobj=obj)\n"
     ]
    },
    {
     "name": "stdout",
     "output_type": "stream",
     "text": [
      "🏃 View run Trial_6 at: http://localhost:5000/#/experiments/398136347545907697/runs/32b525c136284f1aa3c437ee9c01551c\n",
      "🧪 View experiment at: http://localhost:5000/#/experiments/398136347545907697\n"
     ]
    },
    {
     "name": "stderr",
     "output_type": "stream",
     "text": [
      "c:\\Users\\Asus\\anaconda3\\envs\\credit_scoring\\Lib\\site-packages\\xgboost\\sklearn.py:1028: UserWarning: [10:42:30] WARNING: C:\\actions-runner\\_work\\xgboost\\xgboost\\src\\c_api\\c_api.cc:1427: Saving model in the UBJSON format as default.  You can use file extension: `json`, `ubj` or `deprecated` to choose between formats.\n",
      "  self.get_booster().save_model(fname)\n",
      "2025/06/21 10:42:35 WARNING mlflow.models.model: Model logged without a signature and input example. Please set `input_example` parameter when logging the model to auto infer the model signature.\n",
      "c:\\Users\\Asus\\anaconda3\\envs\\credit_scoring\\Lib\\site-packages\\xgboost\\training.py:183: UserWarning: [10:42:35] WARNING: C:\\actions-runner\\_work\\xgboost\\xgboost\\src\\learner.cc:738: \n",
      "Parameters: { \"use_label_encoder\" } are not used.\n",
      "\n",
      "  bst.update(dtrain, iteration=i, fobj=obj)\n"
     ]
    },
    {
     "name": "stdout",
     "output_type": "stream",
     "text": [
      "🏃 View run Trial_7 at: http://localhost:5000/#/experiments/398136347545907697/runs/5af2018191d8431c80cd944303b1336e\n",
      "🧪 View experiment at: http://localhost:5000/#/experiments/398136347545907697\n"
     ]
    },
    {
     "name": "stderr",
     "output_type": "stream",
     "text": [
      "c:\\Users\\Asus\\anaconda3\\envs\\credit_scoring\\Lib\\site-packages\\xgboost\\sklearn.py:1028: UserWarning: [10:42:35] WARNING: C:\\actions-runner\\_work\\xgboost\\xgboost\\src\\c_api\\c_api.cc:1427: Saving model in the UBJSON format as default.  You can use file extension: `json`, `ubj` or `deprecated` to choose between formats.\n",
      "  self.get_booster().save_model(fname)\n",
      "2025/06/21 10:42:40 WARNING mlflow.models.model: Model logged without a signature and input example. Please set `input_example` parameter when logging the model to auto infer the model signature.\n",
      "c:\\Users\\Asus\\anaconda3\\envs\\credit_scoring\\Lib\\site-packages\\xgboost\\training.py:183: UserWarning: [10:42:40] WARNING: C:\\actions-runner\\_work\\xgboost\\xgboost\\src\\learner.cc:738: \n",
      "Parameters: { \"use_label_encoder\" } are not used.\n",
      "\n",
      "  bst.update(dtrain, iteration=i, fobj=obj)\n"
     ]
    },
    {
     "name": "stdout",
     "output_type": "stream",
     "text": [
      "🏃 View run Trial_8 at: http://localhost:5000/#/experiments/398136347545907697/runs/9ecd1c03a76243928a9779be36f2103e\n",
      "🧪 View experiment at: http://localhost:5000/#/experiments/398136347545907697\n"
     ]
    },
    {
     "name": "stderr",
     "output_type": "stream",
     "text": [
      "c:\\Users\\Asus\\anaconda3\\envs\\credit_scoring\\Lib\\site-packages\\xgboost\\sklearn.py:1028: UserWarning: [10:42:40] WARNING: C:\\actions-runner\\_work\\xgboost\\xgboost\\src\\c_api\\c_api.cc:1427: Saving model in the UBJSON format as default.  You can use file extension: `json`, `ubj` or `deprecated` to choose between formats.\n",
      "  self.get_booster().save_model(fname)\n",
      "2025/06/21 10:42:45 WARNING mlflow.models.model: Model logged without a signature and input example. Please set `input_example` parameter when logging the model to auto infer the model signature.\n",
      "c:\\Users\\Asus\\anaconda3\\envs\\credit_scoring\\Lib\\site-packages\\xgboost\\training.py:183: UserWarning: [10:42:45] WARNING: C:\\actions-runner\\_work\\xgboost\\xgboost\\src\\learner.cc:738: \n",
      "Parameters: { \"use_label_encoder\" } are not used.\n",
      "\n",
      "  bst.update(dtrain, iteration=i, fobj=obj)\n"
     ]
    },
    {
     "name": "stdout",
     "output_type": "stream",
     "text": [
      "🏃 View run Trial_9 at: http://localhost:5000/#/experiments/398136347545907697/runs/5af59cc4a32743d3a951e252d44e3772\n",
      "🧪 View experiment at: http://localhost:5000/#/experiments/398136347545907697\n"
     ]
    },
    {
     "name": "stderr",
     "output_type": "stream",
     "text": [
      "c:\\Users\\Asus\\anaconda3\\envs\\credit_scoring\\Lib\\site-packages\\xgboost\\sklearn.py:1028: UserWarning: [10:42:45] WARNING: C:\\actions-runner\\_work\\xgboost\\xgboost\\src\\c_api\\c_api.cc:1427: Saving model in the UBJSON format as default.  You can use file extension: `json`, `ubj` or `deprecated` to choose between formats.\n",
      "  self.get_booster().save_model(fname)\n",
      "2025/06/21 10:42:50 WARNING mlflow.models.model: Model logged without a signature and input example. Please set `input_example` parameter when logging the model to auto infer the model signature.\n",
      "c:\\Users\\Asus\\anaconda3\\envs\\credit_scoring\\Lib\\site-packages\\xgboost\\training.py:183: UserWarning: [10:42:50] WARNING: C:\\actions-runner\\_work\\xgboost\\xgboost\\src\\learner.cc:738: \n",
      "Parameters: { \"use_label_encoder\" } are not used.\n",
      "\n",
      "  bst.update(dtrain, iteration=i, fobj=obj)\n"
     ]
    },
    {
     "name": "stdout",
     "output_type": "stream",
     "text": [
      "🏃 View run Trial_10 at: http://localhost:5000/#/experiments/398136347545907697/runs/fad9ea50539d4b299228b8a57c3ef4a2\n",
      "🧪 View experiment at: http://localhost:5000/#/experiments/398136347545907697\n"
     ]
    },
    {
     "name": "stderr",
     "output_type": "stream",
     "text": [
      "c:\\Users\\Asus\\anaconda3\\envs\\credit_scoring\\Lib\\site-packages\\xgboost\\sklearn.py:1028: UserWarning: [10:42:50] WARNING: C:\\actions-runner\\_work\\xgboost\\xgboost\\src\\c_api\\c_api.cc:1427: Saving model in the UBJSON format as default.  You can use file extension: `json`, `ubj` or `deprecated` to choose between formats.\n",
      "  self.get_booster().save_model(fname)\n",
      "2025/06/21 10:42:55 WARNING mlflow.models.model: Model logged without a signature and input example. Please set `input_example` parameter when logging the model to auto infer the model signature.\n",
      "c:\\Users\\Asus\\anaconda3\\envs\\credit_scoring\\Lib\\site-packages\\xgboost\\training.py:183: UserWarning: [10:42:55] WARNING: C:\\actions-runner\\_work\\xgboost\\xgboost\\src\\learner.cc:738: \n",
      "Parameters: { \"use_label_encoder\" } are not used.\n",
      "\n",
      "  bst.update(dtrain, iteration=i, fobj=obj)\n"
     ]
    },
    {
     "name": "stdout",
     "output_type": "stream",
     "text": [
      "🏃 View run Trial_11 at: http://localhost:5000/#/experiments/398136347545907697/runs/ced413120a9b46678c333e353b58c3f3\n",
      "🧪 View experiment at: http://localhost:5000/#/experiments/398136347545907697\n"
     ]
    },
    {
     "name": "stderr",
     "output_type": "stream",
     "text": [
      "c:\\Users\\Asus\\anaconda3\\envs\\credit_scoring\\Lib\\site-packages\\xgboost\\sklearn.py:1028: UserWarning: [10:42:55] WARNING: C:\\actions-runner\\_work\\xgboost\\xgboost\\src\\c_api\\c_api.cc:1427: Saving model in the UBJSON format as default.  You can use file extension: `json`, `ubj` or `deprecated` to choose between formats.\n",
      "  self.get_booster().save_model(fname)\n",
      "2025/06/21 10:43:00 WARNING mlflow.models.model: Model logged without a signature and input example. Please set `input_example` parameter when logging the model to auto infer the model signature.\n",
      "c:\\Users\\Asus\\anaconda3\\envs\\credit_scoring\\Lib\\site-packages\\xgboost\\training.py:183: UserWarning: [10:43:00] WARNING: C:\\actions-runner\\_work\\xgboost\\xgboost\\src\\learner.cc:738: \n",
      "Parameters: { \"use_label_encoder\" } are not used.\n",
      "\n",
      "  bst.update(dtrain, iteration=i, fobj=obj)\n"
     ]
    },
    {
     "name": "stdout",
     "output_type": "stream",
     "text": [
      "🏃 View run Trial_12 at: http://localhost:5000/#/experiments/398136347545907697/runs/cad425b3c8e84dedab63fbe5b1bce6c0\n",
      "🧪 View experiment at: http://localhost:5000/#/experiments/398136347545907697\n"
     ]
    },
    {
     "name": "stderr",
     "output_type": "stream",
     "text": [
      "c:\\Users\\Asus\\anaconda3\\envs\\credit_scoring\\Lib\\site-packages\\xgboost\\sklearn.py:1028: UserWarning: [10:43:00] WARNING: C:\\actions-runner\\_work\\xgboost\\xgboost\\src\\c_api\\c_api.cc:1427: Saving model in the UBJSON format as default.  You can use file extension: `json`, `ubj` or `deprecated` to choose between formats.\n",
      "  self.get_booster().save_model(fname)\n",
      "2025/06/21 10:43:05 WARNING mlflow.models.model: Model logged without a signature and input example. Please set `input_example` parameter when logging the model to auto infer the model signature.\n",
      "c:\\Users\\Asus\\anaconda3\\envs\\credit_scoring\\Lib\\site-packages\\xgboost\\training.py:183: UserWarning: [10:43:05] WARNING: C:\\actions-runner\\_work\\xgboost\\xgboost\\src\\learner.cc:738: \n",
      "Parameters: { \"use_label_encoder\" } are not used.\n",
      "\n",
      "  bst.update(dtrain, iteration=i, fobj=obj)\n"
     ]
    },
    {
     "name": "stdout",
     "output_type": "stream",
     "text": [
      "🏃 View run Trial_13 at: http://localhost:5000/#/experiments/398136347545907697/runs/6ac7dc03dd2d4a72b819c751c6d618e6\n",
      "🧪 View experiment at: http://localhost:5000/#/experiments/398136347545907697\n"
     ]
    },
    {
     "name": "stderr",
     "output_type": "stream",
     "text": [
      "c:\\Users\\Asus\\anaconda3\\envs\\credit_scoring\\Lib\\site-packages\\xgboost\\sklearn.py:1028: UserWarning: [10:43:05] WARNING: C:\\actions-runner\\_work\\xgboost\\xgboost\\src\\c_api\\c_api.cc:1427: Saving model in the UBJSON format as default.  You can use file extension: `json`, `ubj` or `deprecated` to choose between formats.\n",
      "  self.get_booster().save_model(fname)\n",
      "2025/06/21 10:43:10 WARNING mlflow.models.model: Model logged without a signature and input example. Please set `input_example` parameter when logging the model to auto infer the model signature.\n",
      "c:\\Users\\Asus\\anaconda3\\envs\\credit_scoring\\Lib\\site-packages\\xgboost\\training.py:183: UserWarning: [10:43:10] WARNING: C:\\actions-runner\\_work\\xgboost\\xgboost\\src\\learner.cc:738: \n",
      "Parameters: { \"use_label_encoder\" } are not used.\n",
      "\n",
      "  bst.update(dtrain, iteration=i, fobj=obj)\n"
     ]
    },
    {
     "name": "stdout",
     "output_type": "stream",
     "text": [
      "🏃 View run Trial_14 at: http://localhost:5000/#/experiments/398136347545907697/runs/f14788ac06214910b96b9bdf1b63f9e6\n",
      "🧪 View experiment at: http://localhost:5000/#/experiments/398136347545907697\n"
     ]
    },
    {
     "name": "stderr",
     "output_type": "stream",
     "text": [
      "c:\\Users\\Asus\\anaconda3\\envs\\credit_scoring\\Lib\\site-packages\\xgboost\\sklearn.py:1028: UserWarning: [10:43:10] WARNING: C:\\actions-runner\\_work\\xgboost\\xgboost\\src\\c_api\\c_api.cc:1427: Saving model in the UBJSON format as default.  You can use file extension: `json`, `ubj` or `deprecated` to choose between formats.\n",
      "  self.get_booster().save_model(fname)\n",
      "2025/06/21 10:43:15 WARNING mlflow.models.model: Model logged without a signature and input example. Please set `input_example` parameter when logging the model to auto infer the model signature.\n",
      "c:\\Users\\Asus\\anaconda3\\envs\\credit_scoring\\Lib\\site-packages\\xgboost\\training.py:183: UserWarning: [10:43:15] WARNING: C:\\actions-runner\\_work\\xgboost\\xgboost\\src\\learner.cc:738: \n",
      "Parameters: { \"use_label_encoder\" } are not used.\n",
      "\n",
      "  bst.update(dtrain, iteration=i, fobj=obj)\n"
     ]
    },
    {
     "name": "stdout",
     "output_type": "stream",
     "text": [
      "🏃 View run Trial_15 at: http://localhost:5000/#/experiments/398136347545907697/runs/b9b8f7ea1b524136bd42930889ea93b5\n",
      "🧪 View experiment at: http://localhost:5000/#/experiments/398136347545907697\n"
     ]
    },
    {
     "name": "stderr",
     "output_type": "stream",
     "text": [
      "c:\\Users\\Asus\\anaconda3\\envs\\credit_scoring\\Lib\\site-packages\\xgboost\\sklearn.py:1028: UserWarning: [10:43:15] WARNING: C:\\actions-runner\\_work\\xgboost\\xgboost\\src\\c_api\\c_api.cc:1427: Saving model in the UBJSON format as default.  You can use file extension: `json`, `ubj` or `deprecated` to choose between formats.\n",
      "  self.get_booster().save_model(fname)\n",
      "2025/06/21 10:43:20 WARNING mlflow.models.model: Model logged without a signature and input example. Please set `input_example` parameter when logging the model to auto infer the model signature.\n",
      "c:\\Users\\Asus\\anaconda3\\envs\\credit_scoring\\Lib\\site-packages\\xgboost\\training.py:183: UserWarning: [10:43:20] WARNING: C:\\actions-runner\\_work\\xgboost\\xgboost\\src\\learner.cc:738: \n",
      "Parameters: { \"use_label_encoder\" } are not used.\n",
      "\n",
      "  bst.update(dtrain, iteration=i, fobj=obj)\n"
     ]
    },
    {
     "name": "stdout",
     "output_type": "stream",
     "text": [
      "🏃 View run Trial_16 at: http://localhost:5000/#/experiments/398136347545907697/runs/f6a345af099f4bc480834971e6ab858f\n",
      "🧪 View experiment at: http://localhost:5000/#/experiments/398136347545907697\n"
     ]
    },
    {
     "name": "stderr",
     "output_type": "stream",
     "text": [
      "c:\\Users\\Asus\\anaconda3\\envs\\credit_scoring\\Lib\\site-packages\\xgboost\\sklearn.py:1028: UserWarning: [10:43:20] WARNING: C:\\actions-runner\\_work\\xgboost\\xgboost\\src\\c_api\\c_api.cc:1427: Saving model in the UBJSON format as default.  You can use file extension: `json`, `ubj` or `deprecated` to choose between formats.\n",
      "  self.get_booster().save_model(fname)\n",
      "2025/06/21 10:43:25 WARNING mlflow.models.model: Model logged without a signature and input example. Please set `input_example` parameter when logging the model to auto infer the model signature.\n",
      "c:\\Users\\Asus\\anaconda3\\envs\\credit_scoring\\Lib\\site-packages\\xgboost\\training.py:183: UserWarning: [10:43:25] WARNING: C:\\actions-runner\\_work\\xgboost\\xgboost\\src\\learner.cc:738: \n",
      "Parameters: { \"use_label_encoder\" } are not used.\n",
      "\n",
      "  bst.update(dtrain, iteration=i, fobj=obj)\n"
     ]
    },
    {
     "name": "stdout",
     "output_type": "stream",
     "text": [
      "🏃 View run Trial_17 at: http://localhost:5000/#/experiments/398136347545907697/runs/064e1802159a4510870760b3785d289d\n",
      "🧪 View experiment at: http://localhost:5000/#/experiments/398136347545907697\n"
     ]
    },
    {
     "name": "stderr",
     "output_type": "stream",
     "text": [
      "c:\\Users\\Asus\\anaconda3\\envs\\credit_scoring\\Lib\\site-packages\\xgboost\\sklearn.py:1028: UserWarning: [10:43:25] WARNING: C:\\actions-runner\\_work\\xgboost\\xgboost\\src\\c_api\\c_api.cc:1427: Saving model in the UBJSON format as default.  You can use file extension: `json`, `ubj` or `deprecated` to choose between formats.\n",
      "  self.get_booster().save_model(fname)\n",
      "2025/06/21 10:43:30 WARNING mlflow.models.model: Model logged without a signature and input example. Please set `input_example` parameter when logging the model to auto infer the model signature.\n",
      "c:\\Users\\Asus\\anaconda3\\envs\\credit_scoring\\Lib\\site-packages\\xgboost\\training.py:183: UserWarning: [10:43:30] WARNING: C:\\actions-runner\\_work\\xgboost\\xgboost\\src\\learner.cc:738: \n",
      "Parameters: { \"use_label_encoder\" } are not used.\n",
      "\n",
      "  bst.update(dtrain, iteration=i, fobj=obj)\n"
     ]
    },
    {
     "name": "stdout",
     "output_type": "stream",
     "text": [
      "🏃 View run Trial_18 at: http://localhost:5000/#/experiments/398136347545907697/runs/e88a1644cebf4254ba31dd38db3e5829\n",
      "🧪 View experiment at: http://localhost:5000/#/experiments/398136347545907697\n"
     ]
    },
    {
     "name": "stderr",
     "output_type": "stream",
     "text": [
      "c:\\Users\\Asus\\anaconda3\\envs\\credit_scoring\\Lib\\site-packages\\xgboost\\sklearn.py:1028: UserWarning: [10:43:30] WARNING: C:\\actions-runner\\_work\\xgboost\\xgboost\\src\\c_api\\c_api.cc:1427: Saving model in the UBJSON format as default.  You can use file extension: `json`, `ubj` or `deprecated` to choose between formats.\n",
      "  self.get_booster().save_model(fname)\n",
      "2025/06/21 10:43:35 WARNING mlflow.models.model: Model logged without a signature and input example. Please set `input_example` parameter when logging the model to auto infer the model signature.\n",
      "c:\\Users\\Asus\\anaconda3\\envs\\credit_scoring\\Lib\\site-packages\\xgboost\\training.py:183: UserWarning: [10:43:35] WARNING: C:\\actions-runner\\_work\\xgboost\\xgboost\\src\\learner.cc:738: \n",
      "Parameters: { \"use_label_encoder\" } are not used.\n",
      "\n",
      "  bst.update(dtrain, iteration=i, fobj=obj)\n"
     ]
    },
    {
     "name": "stdout",
     "output_type": "stream",
     "text": [
      "🏃 View run Trial_19 at: http://localhost:5000/#/experiments/398136347545907697/runs/56f9598301814c939468d4f357386809\n",
      "🧪 View experiment at: http://localhost:5000/#/experiments/398136347545907697\n"
     ]
    },
    {
     "name": "stderr",
     "output_type": "stream",
     "text": [
      "c:\\Users\\Asus\\anaconda3\\envs\\credit_scoring\\Lib\\site-packages\\xgboost\\sklearn.py:1028: UserWarning: [10:43:35] WARNING: C:\\actions-runner\\_work\\xgboost\\xgboost\\src\\c_api\\c_api.cc:1427: Saving model in the UBJSON format as default.  You can use file extension: `json`, `ubj` or `deprecated` to choose between formats.\n",
      "  self.get_booster().save_model(fname)\n",
      "2025/06/21 10:43:40 WARNING mlflow.models.model: Model logged without a signature and input example. Please set `input_example` parameter when logging the model to auto infer the model signature.\n",
      "c:\\Users\\Asus\\anaconda3\\envs\\credit_scoring\\Lib\\site-packages\\xgboost\\training.py:183: UserWarning: [10:43:40] WARNING: C:\\actions-runner\\_work\\xgboost\\xgboost\\src\\learner.cc:738: \n",
      "Parameters: { \"use_label_encoder\" } are not used.\n",
      "\n",
      "  bst.update(dtrain, iteration=i, fobj=obj)\n"
     ]
    },
    {
     "name": "stdout",
     "output_type": "stream",
     "text": [
      "🏃 View run Trial_20 at: http://localhost:5000/#/experiments/398136347545907697/runs/53ce69b5319f4bfa82ee7db7952fd8fe\n",
      "🧪 View experiment at: http://localhost:5000/#/experiments/398136347545907697\n"
     ]
    },
    {
     "name": "stderr",
     "output_type": "stream",
     "text": [
      "c:\\Users\\Asus\\anaconda3\\envs\\credit_scoring\\Lib\\site-packages\\xgboost\\sklearn.py:1028: UserWarning: [10:43:40] WARNING: C:\\actions-runner\\_work\\xgboost\\xgboost\\src\\c_api\\c_api.cc:1427: Saving model in the UBJSON format as default.  You can use file extension: `json`, `ubj` or `deprecated` to choose between formats.\n",
      "  self.get_booster().save_model(fname)\n",
      "2025/06/21 10:43:45 WARNING mlflow.models.model: Model logged without a signature and input example. Please set `input_example` parameter when logging the model to auto infer the model signature.\n",
      "c:\\Users\\Asus\\anaconda3\\envs\\credit_scoring\\Lib\\site-packages\\xgboost\\training.py:183: UserWarning: [10:43:45] WARNING: C:\\actions-runner\\_work\\xgboost\\xgboost\\src\\learner.cc:738: \n",
      "Parameters: { \"use_label_encoder\" } are not used.\n",
      "\n",
      "  bst.update(dtrain, iteration=i, fobj=obj)\n"
     ]
    },
    {
     "name": "stdout",
     "output_type": "stream",
     "text": [
      "🏃 View run Trial_21 at: http://localhost:5000/#/experiments/398136347545907697/runs/758735340c3e41fbb9dfa6aed01c5d80\n",
      "🧪 View experiment at: http://localhost:5000/#/experiments/398136347545907697\n"
     ]
    },
    {
     "name": "stderr",
     "output_type": "stream",
     "text": [
      "c:\\Users\\Asus\\anaconda3\\envs\\credit_scoring\\Lib\\site-packages\\xgboost\\sklearn.py:1028: UserWarning: [10:43:45] WARNING: C:\\actions-runner\\_work\\xgboost\\xgboost\\src\\c_api\\c_api.cc:1427: Saving model in the UBJSON format as default.  You can use file extension: `json`, `ubj` or `deprecated` to choose between formats.\n",
      "  self.get_booster().save_model(fname)\n",
      "2025/06/21 10:43:50 WARNING mlflow.models.model: Model logged without a signature and input example. Please set `input_example` parameter when logging the model to auto infer the model signature.\n",
      "c:\\Users\\Asus\\anaconda3\\envs\\credit_scoring\\Lib\\site-packages\\xgboost\\training.py:183: UserWarning: [10:43:50] WARNING: C:\\actions-runner\\_work\\xgboost\\xgboost\\src\\learner.cc:738: \n",
      "Parameters: { \"use_label_encoder\" } are not used.\n",
      "\n",
      "  bst.update(dtrain, iteration=i, fobj=obj)\n"
     ]
    },
    {
     "name": "stdout",
     "output_type": "stream",
     "text": [
      "🏃 View run Trial_22 at: http://localhost:5000/#/experiments/398136347545907697/runs/8cdeba6bb6e94780802ba2039cc7cfa3\n",
      "🧪 View experiment at: http://localhost:5000/#/experiments/398136347545907697\n"
     ]
    },
    {
     "name": "stderr",
     "output_type": "stream",
     "text": [
      "c:\\Users\\Asus\\anaconda3\\envs\\credit_scoring\\Lib\\site-packages\\xgboost\\sklearn.py:1028: UserWarning: [10:43:50] WARNING: C:\\actions-runner\\_work\\xgboost\\xgboost\\src\\c_api\\c_api.cc:1427: Saving model in the UBJSON format as default.  You can use file extension: `json`, `ubj` or `deprecated` to choose between formats.\n",
      "  self.get_booster().save_model(fname)\n",
      "2025/06/21 10:43:55 WARNING mlflow.models.model: Model logged without a signature and input example. Please set `input_example` parameter when logging the model to auto infer the model signature.\n",
      "c:\\Users\\Asus\\anaconda3\\envs\\credit_scoring\\Lib\\site-packages\\xgboost\\training.py:183: UserWarning: [10:43:55] WARNING: C:\\actions-runner\\_work\\xgboost\\xgboost\\src\\learner.cc:738: \n",
      "Parameters: { \"use_label_encoder\" } are not used.\n",
      "\n",
      "  bst.update(dtrain, iteration=i, fobj=obj)\n"
     ]
    },
    {
     "name": "stdout",
     "output_type": "stream",
     "text": [
      "🏃 View run Trial_23 at: http://localhost:5000/#/experiments/398136347545907697/runs/3a0c737dbfa2475582911b3456dc26db\n",
      "🧪 View experiment at: http://localhost:5000/#/experiments/398136347545907697\n"
     ]
    },
    {
     "name": "stderr",
     "output_type": "stream",
     "text": [
      "c:\\Users\\Asus\\anaconda3\\envs\\credit_scoring\\Lib\\site-packages\\xgboost\\sklearn.py:1028: UserWarning: [10:43:55] WARNING: C:\\actions-runner\\_work\\xgboost\\xgboost\\src\\c_api\\c_api.cc:1427: Saving model in the UBJSON format as default.  You can use file extension: `json`, `ubj` or `deprecated` to choose between formats.\n",
      "  self.get_booster().save_model(fname)\n",
      "2025/06/21 10:44:00 WARNING mlflow.models.model: Model logged without a signature and input example. Please set `input_example` parameter when logging the model to auto infer the model signature.\n",
      "c:\\Users\\Asus\\anaconda3\\envs\\credit_scoring\\Lib\\site-packages\\xgboost\\training.py:183: UserWarning: [10:44:00] WARNING: C:\\actions-runner\\_work\\xgboost\\xgboost\\src\\learner.cc:738: \n",
      "Parameters: { \"use_label_encoder\" } are not used.\n",
      "\n",
      "  bst.update(dtrain, iteration=i, fobj=obj)\n"
     ]
    },
    {
     "name": "stdout",
     "output_type": "stream",
     "text": [
      "🏃 View run Trial_24 at: http://localhost:5000/#/experiments/398136347545907697/runs/410435c913924a35a43e215d9d0d3bec\n",
      "🧪 View experiment at: http://localhost:5000/#/experiments/398136347545907697\n"
     ]
    },
    {
     "name": "stderr",
     "output_type": "stream",
     "text": [
      "c:\\Users\\Asus\\anaconda3\\envs\\credit_scoring\\Lib\\site-packages\\xgboost\\sklearn.py:1028: UserWarning: [10:44:00] WARNING: C:\\actions-runner\\_work\\xgboost\\xgboost\\src\\c_api\\c_api.cc:1427: Saving model in the UBJSON format as default.  You can use file extension: `json`, `ubj` or `deprecated` to choose between formats.\n",
      "  self.get_booster().save_model(fname)\n",
      "2025/06/21 10:44:05 WARNING mlflow.models.model: Model logged without a signature and input example. Please set `input_example` parameter when logging the model to auto infer the model signature.\n",
      "c:\\Users\\Asus\\anaconda3\\envs\\credit_scoring\\Lib\\site-packages\\xgboost\\training.py:183: UserWarning: [10:44:05] WARNING: C:\\actions-runner\\_work\\xgboost\\xgboost\\src\\learner.cc:738: \n",
      "Parameters: { \"use_label_encoder\" } are not used.\n",
      "\n",
      "  bst.update(dtrain, iteration=i, fobj=obj)\n"
     ]
    },
    {
     "name": "stdout",
     "output_type": "stream",
     "text": [
      "🏃 View run Trial_25 at: http://localhost:5000/#/experiments/398136347545907697/runs/165730b3f96c4271ac166b4180495816\n",
      "🧪 View experiment at: http://localhost:5000/#/experiments/398136347545907697\n"
     ]
    },
    {
     "name": "stderr",
     "output_type": "stream",
     "text": [
      "c:\\Users\\Asus\\anaconda3\\envs\\credit_scoring\\Lib\\site-packages\\xgboost\\sklearn.py:1028: UserWarning: [10:44:05] WARNING: C:\\actions-runner\\_work\\xgboost\\xgboost\\src\\c_api\\c_api.cc:1427: Saving model in the UBJSON format as default.  You can use file extension: `json`, `ubj` or `deprecated` to choose between formats.\n",
      "  self.get_booster().save_model(fname)\n",
      "2025/06/21 10:44:10 WARNING mlflow.models.model: Model logged without a signature and input example. Please set `input_example` parameter when logging the model to auto infer the model signature.\n",
      "c:\\Users\\Asus\\anaconda3\\envs\\credit_scoring\\Lib\\site-packages\\xgboost\\training.py:183: UserWarning: [10:44:10] WARNING: C:\\actions-runner\\_work\\xgboost\\xgboost\\src\\learner.cc:738: \n",
      "Parameters: { \"use_label_encoder\" } are not used.\n",
      "\n",
      "  bst.update(dtrain, iteration=i, fobj=obj)\n"
     ]
    },
    {
     "name": "stdout",
     "output_type": "stream",
     "text": [
      "🏃 View run Trial_26 at: http://localhost:5000/#/experiments/398136347545907697/runs/88171d63c1cd4244aeb16fa86b2aa70e\n",
      "🧪 View experiment at: http://localhost:5000/#/experiments/398136347545907697\n"
     ]
    },
    {
     "name": "stderr",
     "output_type": "stream",
     "text": [
      "c:\\Users\\Asus\\anaconda3\\envs\\credit_scoring\\Lib\\site-packages\\xgboost\\sklearn.py:1028: UserWarning: [10:44:10] WARNING: C:\\actions-runner\\_work\\xgboost\\xgboost\\src\\c_api\\c_api.cc:1427: Saving model in the UBJSON format as default.  You can use file extension: `json`, `ubj` or `deprecated` to choose between formats.\n",
      "  self.get_booster().save_model(fname)\n",
      "2025/06/21 10:44:15 WARNING mlflow.models.model: Model logged without a signature and input example. Please set `input_example` parameter when logging the model to auto infer the model signature.\n",
      "c:\\Users\\Asus\\anaconda3\\envs\\credit_scoring\\Lib\\site-packages\\xgboost\\sklearn.py:1028: UserWarning: [10:44:15] WARNING: C:\\actions-runner\\_work\\xgboost\\xgboost\\src\\c_api\\c_api.cc:1427: Saving model in the UBJSON format as default.  You can use file extension: `json`, `ubj` or `deprecated` to choose between formats.\n",
      "  self.get_booster().save_model(fname)\n"
     ]
    },
    {
     "name": "stdout",
     "output_type": "stream",
     "text": [
      "🏃 View run Trial_27 at: http://localhost:5000/#/experiments/398136347545907697/runs/0d6b97fc0d474ae3a7369e68ab093d90\n",
      "🧪 View experiment at: http://localhost:5000/#/experiments/398136347545907697\n"
     ]
    },
    {
     "name": "stderr",
     "output_type": "stream",
     "text": [
      "2025/06/21 10:44:20 WARNING mlflow.models.model: Model logged without a signature and input example. Please set `input_example` parameter when logging the model to auto infer the model signature.\n"
     ]
    },
    {
     "name": "stdout",
     "output_type": "stream",
     "text": [
      "🏃 View run XGB_GridSearch_Full at: http://localhost:5000/#/experiments/398136347545907697/runs/3f0991262aef4f0e904320b3cb8d8035\n",
      "🧪 View experiment at: http://localhost:5000/#/experiments/398136347545907697\n"
     ]
    }
   ],
   "source": [
    "from xgboost import XGBClassifier\n",
    "from sklearn.model_selection import GridSearchCV\n",
    "from sklearn.metrics import accuracy_score, precision_score, recall_score, f1_score\n",
    "import mlflow\n",
    "import mlflow.xgboost\n",
    "import time\n",
    "\n",
    "xgb = XGBClassifier(use_label_encoder=False, eval_metric='logloss')\n",
    "param_grid = {\n",
    "    'n_estimators': [50, 100, 200],\n",
    "    'max_depth': [3, 5, 7],\n",
    "    'learning_rate': [0.01, 0.1, 0.2]\n",
    "}\n",
    "\n",
    "# Run utama (global)\n",
    "with mlflow.start_run(run_name=\"XGB_GridSearch_Full\") as main_run:\n",
    "    grid_search = GridSearchCV(xgb, param_grid, scoring='accuracy', cv=3, return_train_score=True)\n",
    "    \n",
    "    start_time = time.time()\n",
    "    grid_search.fit(x_train, y_train)\n",
    "    train_time = time.time() - start_time\n",
    "\n",
    "    # Loop semua kombinasi parameter (log semua)\n",
    "    for i in range(len(grid_search.cv_results_['params'])):\n",
    "        params = grid_search.cv_results_['params'][i]\n",
    "\n",
    "        # Buat ulang model dengan param ini\n",
    "        model = XGBClassifier(\n",
    "            use_label_encoder=False,\n",
    "            eval_metric='logloss',\n",
    "            **params\n",
    "        )\n",
    "        model.fit(x_train, y_train)\n",
    "        y_pred = model.predict(x_test)\n",
    "\n",
    "        with mlflow.start_run(run_name=f\"Trial_{i+1}\", nested=True):\n",
    "            for param_name, param_value in params.items():\n",
    "                mlflow.log_param(param_name, param_value)\n",
    "\n",
    "            mlflow.log_metric(\"accuracy\", accuracy_score(y_test, y_pred))\n",
    "            mlflow.log_metric(\"precision\", precision_score(y_test, y_pred, average='binary'))\n",
    "            mlflow.log_metric(\"recall\", recall_score(y_test, y_pred, average='binary'))\n",
    "            mlflow.log_metric(\"f1_score\", f1_score(y_test, y_pred, average='binary'))\n",
    "\n",
    "            # Extra\n",
    "            mlflow.log_metric(\"train_time\", train_time)\n",
    "            mlflow.log_metric(\"true_positive_rate\", recall_score(y_test, y_pred, pos_label=1))\n",
    "            mlflow.log_metric(\"true_negative_rate\", recall_score(y_test, y_pred, pos_label=0))\n",
    "\n",
    "            # Simpan model ini\n",
    "            mlflow.xgboost.log_model(model, \"model\")\n",
    "\n",
    "    # Log model terbaik sebagai run utama\n",
    "    y_pred_best = grid_search.best_estimator_.predict(x_test)\n",
    "\n",
    "    mlflow.log_param(\"model_type\", \"XGBClassifier_Best\")\n",
    "    mlflow.log_params(grid_search.best_params_)\n",
    "    mlflow.log_metric(\"accuracy\", accuracy_score(y_test, y_pred_best))\n",
    "    mlflow.log_metric(\"precision\", precision_score(y_test, y_pred_best, average='binary'))\n",
    "    mlflow.log_metric(\"recall\", recall_score(y_test, y_pred_best, average='binary'))\n",
    "    mlflow.log_metric(\"f1_score\", f1_score(y_test, y_pred_best, average='binary'))\n",
    "    mlflow.log_metric(\"train_time\", train_time)\n",
    "\n",
    "    mlflow.xgboost.log_model(grid_search.best_estimator_, \"model_best\")"
   ]
  },
  {
   "cell_type": "code",
   "execution_count": 1,
   "id": "fd2d9170",
   "metadata": {},
   "outputs": [
    {
     "name": "stderr",
     "output_type": "stream",
     "text": [
      "2025/06/21 16:27:33 INFO mlflow.tracking.fluent: Experiment with name 'Personality_Prediction_Experiment' does not exist. Creating a new experiment.\n",
      "2025/06/21 16:27:33 WARNING mlflow.utils.autologging_utils: MLflow xgboost autologging is known to be compatible with 1.4.2 <= xgboost <= 3.0.0, but the installed version is 3.0.2. If you encounter errors during autologging, try upgrading / downgrading xgboost to a compatible version, or try upgrading MLflow.\n"
     ]
    },
    {
     "name": "stdout",
     "output_type": "stream",
     "text": [
      "Training XGBoost model with MLflow autologging...\n"
     ]
    },
    {
     "name": "stderr",
     "output_type": "stream",
     "text": [
      "c:\\Users\\Asus\\anaconda3\\envs\\credit_scoring\\Lib\\site-packages\\xgboost\\training.py:183: UserWarning: [16:27:35] WARNING: C:\\actions-runner\\_work\\xgboost\\xgboost\\src\\learner.cc:738: \n",
      "Parameters: { \"use_label_encoder\" } are not used.\n",
      "\n",
      "  bst.update(dtrain, iteration=i, fobj=obj)\n",
      "2025/06/21 16:27:36 WARNING mlflow.utils.autologging_utils: MLflow autologging encountered a warning: \"c:\\Users\\Asus\\anaconda3\\envs\\credit_scoring\\Lib\\site-packages\\mlflow\\types\\utils.py:452: UserWarning: Hint: Inferred schema contains integer column(s). Integer columns in Python cannot represent missing values. If your input data contains missing values at inference time, it will be encoded as floats and will cause a schema enforcement error. The best way to avoid this problem is to infer the model schema based on a realistic data sample (training dataset) that includes missing values. Alternatively, you can declare integer columns as doubles (float64) whenever these columns may have missing values. See `Handling Integers With Missing Values <https://www.mlflow.org/docs/latest/models.html#handling-integers-with-missing-values>`_ for more details.\"\n",
      "2025/06/21 16:27:36 WARNING mlflow.utils.autologging_utils: MLflow autologging encountered a warning: \"c:\\Users\\Asus\\anaconda3\\envs\\credit_scoring\\Lib\\site-packages\\xgboost\\sklearn.py:1028: UserWarning: [16:27:36] WARNING: C:\\actions-runner\\_work\\xgboost\\xgboost\\src\\c_api\\c_api.cc:1427: Saving model in the UBJSON format as default.  You can use file extension: `json`, `ubj` or `deprecated` to choose between formats.\"\n"
     ]
    },
    {
     "name": "stdout",
     "output_type": "stream",
     "text": [
      "[✓] Training completed in 9.58 seconds.\n",
      "🏃 View run XGBoost at: http://localhost:5000/#/experiments/738617894064911806/runs/84ed0f1694ac44178205deb7f849c549\n",
      "🧪 View experiment at: http://localhost:5000/#/experiments/738617894064911806\n"
     ]
    }
   ],
   "source": [
    "import mlflow\n",
    "import mlflow.xgboost\n",
    "import pandas as pd\n",
    "from sklearn.model_selection import train_test_split\n",
    "from xgboost import XGBClassifier\n",
    "import time\n",
    "\n",
    "# === Load data ===\n",
    "dataset_df = pd.read_csv(\"./personality_preprocessing/personality_preprocessing.csv\")\n",
    "\n",
    "x_train, x_test, y_train, y_test = train_test_split(\n",
    "    dataset_df.drop(columns=[\"Personality\"]),\n",
    "    dataset_df[\"Personality\"],\n",
    "    test_size=0.2,\n",
    "    random_state=42\n",
    ")\n",
    "\n",
    "# === MLflow setup ===\n",
    "mlflow.set_tracking_uri(\"http://localhost:5000\")\n",
    "mlflow.set_experiment(\"Personality_Prediction_Experiment\")\n",
    "\n",
    "# Enable MLflow autologging for XGBoost\n",
    "mlflow.xgboost.autolog()\n",
    "\n",
    "# === Training ===\n",
    "if __name__ == \"__main__\":\n",
    "    model = XGBClassifier(use_label_encoder=False, eval_metric='mlogloss')\n",
    "    \n",
    "    print(\"Training XGBoost model with MLflow autologging...\")\n",
    "    with mlflow.start_run(run_name=\"XGBoost\"):\n",
    "        start_time = time.time()\n",
    "        model.fit(x_train, y_train)\n",
    "        train_time = time.time() - start_time\n",
    "\n",
    "        # Manual log: training time (autolog doesn't do this)\n",
    "        mlflow.log_metric(\"train_time\", train_time)\n",
    "\n",
    "        print(f\"[✓] Training completed in {train_time:.2f} seconds.\")"
   ]
  }
 ],
 "metadata": {
  "kernelspec": {
   "display_name": "credit_scoring",
   "language": "python",
   "name": "python3"
  },
  "language_info": {
   "codemirror_mode": {
    "name": "ipython",
    "version": 3
   },
   "file_extension": ".py",
   "mimetype": "text/x-python",
   "name": "python",
   "nbconvert_exporter": "python",
   "pygments_lexer": "ipython3",
   "version": "3.12.7"
  }
 },
 "nbformat": 4,
 "nbformat_minor": 5
}
